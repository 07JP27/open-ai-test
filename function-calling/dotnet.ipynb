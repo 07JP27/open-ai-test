{
 "cells": [
  {
   "cell_type": "code",
   "execution_count": 1,
   "metadata": {
    "dotnet_interactive": {
     "language": "csharp"
    },
    "polyglot_notebook": {
     "kernelName": "csharp"
    },
    "vscode": {
     "languageId": "polyglot-notebook"
    }
   },
   "outputs": [],
   "source": [
    "// 次の３つの値をご自身のものに置き換えてください。Replace the following three values with your resources. \n",
    "const string deployment = \"your-aoai-deployment-name\";\n",
    "const string apikey = \"your-apai-api-key\";\n",
    "const string baseUrl = \"https://{your-aoai-resource-name}.openai.azure.com\";"
   ]
  },
  {
   "cell_type": "code",
   "execution_count": 39,
   "metadata": {
    "dotnet_interactive": {
     "language": "csharp"
    },
    "polyglot_notebook": {
     "kernelName": "csharp"
    },
    "vscode": {
     "languageId": "polyglot-notebook"
    }
   },
   "outputs": [
    {
     "data": {
      "text/html": [
       "<div><div></div><div></div><div><strong>Installed Packages</strong><ul><li><span>Azure.AI.OpenAI, 1.0.0-beta.6</span></li><li><span>Azure.Identity, 1.9.0</span></li></ul></div></div>"
      ]
     },
     "metadata": {},
     "output_type": "display_data"
    }
   ],
   "source": [
    "#r \"nuget: Azure.AI.OpenAI, 1.0.0-beta.6\"\n",
    "#r \"nuget: Azure.Identity\""
   ]
  },
  {
   "cell_type": "code",
   "execution_count": 21,
   "metadata": {
    "dotnet_interactive": {
     "language": "csharp"
    },
    "polyglot_notebook": {
     "kernelName": "csharp"
    },
    "vscode": {
     "languageId": "polyglot-notebook"
    }
   },
   "outputs": [],
   "source": [
    "using Azure;\n",
    "using Azure.AI.OpenAI;\n",
    "using Azure.Identity;\n",
    "using System.Text.Json;"
   ]
  },
  {
   "cell_type": "code",
   "execution_count": 31,
   "metadata": {
    "dotnet_interactive": {
     "language": "csharp"
    },
    "polyglot_notebook": {
     "kernelName": "csharp"
    },
    "vscode": {
     "languageId": "polyglot-notebook"
    }
   },
   "outputs": [],
   "source": [
    "List<FunctionDefinition> functions =  new() {\n",
    "    new()\n",
    "    {\n",
    "        Name = \"get_recipe\",\n",
    "        Description = \"与えられた料理のレシピを取得します。\",\n",
    "        Parameters = BinaryData.FromObjectAsJson(new\n",
    "        {\n",
    "            Type = \"object\",\n",
    "            Properties = new\n",
    "            {\n",
    "                Food = new\n",
    "                {\n",
    "                    Type = \"string\",\n",
    "                    Description = \"レシピを検索する料理、例：ポトフ、ピラフ\",\n",
    "                },\n",
    "            },\n",
    "            Required = new[] { \"food\" },\n",
    "        },\n",
    "        new JsonSerializerOptions\n",
    "        {\n",
    "            PropertyNamingPolicy = JsonNamingPolicy.CamelCase,\n",
    "        }),\n",
    "    }\n",
    "};"
   ]
  },
  {
   "cell_type": "code",
   "execution_count": 15,
   "metadata": {
    "dotnet_interactive": {
     "language": "csharp"
    },
    "polyglot_notebook": {
     "kernelName": "csharp"
    },
    "vscode": {
     "languageId": "polyglot-notebook"
    }
   },
   "outputs": [],
   "source": [
    "var client = new  OpenAIClient(\n",
    "    new Uri(baseUrl),\n",
    "    new AzureKeyCredential(apikey));"
   ]
  },
  {
   "cell_type": "code",
   "execution_count": 32,
   "metadata": {
    "dotnet_interactive": {
     "language": "csharp"
    },
    "polyglot_notebook": {
     "kernelName": "csharp"
    },
    "vscode": {
     "languageId": "polyglot-notebook"
    }
   },
   "outputs": [],
   "source": [
    "var response = await client.GetChatCompletionsAsync(deployment,\n",
    "    new ChatCompletionsOptions\n",
    "    {\n",
    "        Messages =\n",
    "        {\n",
    "            new() { Role = ChatRole.System, Content = \"あなたはさまざまな事をサポートするアシスタントです。\" },\n",
    "            new() { Role = ChatRole.User, Content = \"今日の夕食は外食にしようと思ったけど、大根が余っているからぶり大根を作ろうかな。\" },\n",
    "        },\n",
    "        Functions = functions\n",
    "    });"
   ]
  },
  {
   "cell_type": "code",
   "execution_count": 38,
   "metadata": {
    "dotnet_interactive": {
     "language": "csharp"
    },
    "polyglot_notebook": {
     "kernelName": "csharp"
    },
    "vscode": {
     "languageId": "polyglot-notebook"
    }
   },
   "outputs": [
    {
     "name": "stdout",
     "output_type": "stream",
     "text": [
      "get_recipe\n",
      "{\n",
      "  \"food\": \"ぶり大根\"\n",
      "}\n"
     ]
    }
   ],
   "source": [
    "var finisReason = response.Value.Choices[0].FinishReason;\n",
    "\n",
    "if (finisReason == \"function_call\"){\n",
    "    var functionCall = response.Value.Choices[0].Message.FunctionCall;\n",
    "    Console.WriteLine(functionCall.Name);\n",
    "    Console.WriteLine(functionCall.Arguments);\n",
    "}"
   ]
  }
 ],
 "metadata": {
  "language_info": {
   "name": "python"
  },
  "orig_nbformat": 4
 },
 "nbformat": 4,
 "nbformat_minor": 2
}
